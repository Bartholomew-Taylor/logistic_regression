{
 "cells": [
  {
   "cell_type": "code",
   "execution_count": 2,
   "id": "4b11c0ec",
   "metadata": {},
   "outputs": [],
   "source": [
    "from sklearn.metrics import precision_score\n",
    "from sklearn.metrics import accuracy_score\n",
    "from sklearn.metrics import recall_score\n",
    "from sklearn.metrics import classification_report\n",
    "import pandas as pd\n",
    "from scipy import stats\n",
    "from pydataset import data\n",
    "import numpy as np\n",
    "import env\n",
    "import matplotlib.pyplot as plt\n",
    "import os\n",
    "import prepare\n",
    "import wrangle\n",
    "from sklearn.model_selection import train_test_split\n",
    "from sklearn.impute import SimpleImputer\n",
    "import seaborn as sns\n",
    "from sklearn.preprocessing import MinMaxScaler\n",
    "from sklearn.preprocessing import StandardScaler\n",
    "from sklearn.preprocessing import RobustScaler\n"
   ]
  },
  {
   "cell_type": "code",
   "execution_count": 3,
   "id": "d5a859f1",
   "metadata": {},
   "outputs": [],
   "source": [
    "df = wrangle.get_zillow_sfr_data()"
   ]
  },
  {
   "cell_type": "code",
   "execution_count": 4,
   "id": "3d274be9",
   "metadata": {},
   "outputs": [
    {
     "name": "stderr",
     "output_type": "stream",
     "text": [
      "/Users/fullspectrum/codeup-data-science/logistic_regression/wrangle.py:58: SettingWithCopyWarning: \n",
      "A value is trying to be set on a copy of a slice from a DataFrame\n",
      "\n",
      "See the caveats in the documentation: https://pandas.pydata.org/pandas-docs/stable/user_guide/indexing.html#returning-a-view-versus-a-copy\n",
      "  df.drop_duplicates(inplace = True)\n",
      "/Users/fullspectrum/codeup-data-science/logistic_regression/wrangle.py:59: SettingWithCopyWarning: \n",
      "A value is trying to be set on a copy of a slice from a DataFrame\n",
      "\n",
      "See the caveats in the documentation: https://pandas.pydata.org/pandas-docs/stable/user_guide/indexing.html#returning-a-view-versus-a-copy\n",
      "  df.drop([df.columns[0]], axis = 1, inplace = True)\n",
      "/Users/fullspectrum/codeup-data-science/logistic_regression/wrangle.py:60: SettingWithCopyWarning: \n",
      "A value is trying to be set on a copy of a slice from a DataFrame\n",
      "\n",
      "See the caveats in the documentation: https://pandas.pydata.org/pandas-docs/stable/user_guide/indexing.html#returning-a-view-versus-a-copy\n",
      "  df.rename(columns = {'bedroomcnt' : 'bedroom',\n"
     ]
    }
   ],
   "source": [
    "train, validate, test = wrangle.clean_prep_zillow(df)"
   ]
  },
  {
   "cell_type": "code",
   "execution_count": 5,
   "id": "f284f28a",
   "metadata": {},
   "outputs": [],
   "source": [
    "sfr_train = train"
   ]
  },
  {
   "cell_type": "code",
   "execution_count": 6,
   "id": "45bd465a",
   "metadata": {
    "scrolled": true
   },
   "outputs": [
    {
     "data": {
      "text/html": [
       "<div>\n",
       "<style scoped>\n",
       "    .dataframe tbody tr th:only-of-type {\n",
       "        vertical-align: middle;\n",
       "    }\n",
       "\n",
       "    .dataframe tbody tr th {\n",
       "        vertical-align: top;\n",
       "    }\n",
       "\n",
       "    .dataframe thead th {\n",
       "        text-align: right;\n",
       "    }\n",
       "</style>\n",
       "<table border=\"1\" class=\"dataframe\">\n",
       "  <thead>\n",
       "    <tr style=\"text-align: right;\">\n",
       "      <th></th>\n",
       "      <th>1766466</th>\n",
       "      <th>1073889</th>\n",
       "      <th>1223806</th>\n",
       "      <th>1694410</th>\n",
       "      <th>1436362</th>\n",
       "    </tr>\n",
       "  </thead>\n",
       "  <tbody>\n",
       "    <tr>\n",
       "      <th>bedroom</th>\n",
       "      <td>3.00</td>\n",
       "      <td>3.00</td>\n",
       "      <td>5.00</td>\n",
       "      <td>2.00</td>\n",
       "      <td>2.00</td>\n",
       "    </tr>\n",
       "    <tr>\n",
       "      <th>bathroom</th>\n",
       "      <td>2.00</td>\n",
       "      <td>2.00</td>\n",
       "      <td>5.00</td>\n",
       "      <td>1.00</td>\n",
       "      <td>2.00</td>\n",
       "    </tr>\n",
       "    <tr>\n",
       "      <th>sqrft</th>\n",
       "      <td>1642.00</td>\n",
       "      <td>1858.00</td>\n",
       "      <td>4433.00</td>\n",
       "      <td>888.00</td>\n",
       "      <td>1966.00</td>\n",
       "    </tr>\n",
       "    <tr>\n",
       "      <th>tax_value</th>\n",
       "      <td>231120.00</td>\n",
       "      <td>178499.00</td>\n",
       "      <td>913447.00</td>\n",
       "      <td>54621.00</td>\n",
       "      <td>760368.00</td>\n",
       "    </tr>\n",
       "    <tr>\n",
       "      <th>year_built</th>\n",
       "      <td>1960.00</td>\n",
       "      <td>1955.00</td>\n",
       "      <td>2001.00</td>\n",
       "      <td>1953.00</td>\n",
       "      <td>1925.00</td>\n",
       "    </tr>\n",
       "    <tr>\n",
       "      <th>taxamount</th>\n",
       "      <td>2898.13</td>\n",
       "      <td>2204.12</td>\n",
       "      <td>10717.51</td>\n",
       "      <td>606.26</td>\n",
       "      <td>8290.04</td>\n",
       "    </tr>\n",
       "    <tr>\n",
       "      <th>fips</th>\n",
       "      <td>6037.00</td>\n",
       "      <td>6059.00</td>\n",
       "      <td>6037.00</td>\n",
       "      <td>6037.00</td>\n",
       "      <td>6037.00</td>\n",
       "    </tr>\n",
       "  </tbody>\n",
       "</table>\n",
       "</div>"
      ],
      "text/plain": [
       "              1766466    1073889    1223806   1694410    1436362\n",
       "bedroom          3.00       3.00       5.00      2.00       2.00\n",
       "bathroom         2.00       2.00       5.00      1.00       2.00\n",
       "sqrft         1642.00    1858.00    4433.00    888.00    1966.00\n",
       "tax_value   231120.00  178499.00  913447.00  54621.00  760368.00\n",
       "year_built    1960.00    1955.00    2001.00   1953.00    1925.00\n",
       "taxamount     2898.13    2204.12   10717.51    606.26    8290.04\n",
       "fips          6037.00    6059.00    6037.00   6037.00    6037.00"
      ]
     },
     "execution_count": 6,
     "metadata": {},
     "output_type": "execute_result"
    }
   ],
   "source": [
    "sfr_train.head().T"
   ]
  },
  {
   "cell_type": "code",
   "execution_count": 8,
   "id": "d8d95618",
   "metadata": {},
   "outputs": [],
   "source": [
    "x_train = train.drop(columns = ['tax_value'])\n",
    "y_train = train['tax_value']\n",
    "x_val = validate.drop(columns = ['tax_value'])\n",
    "y_val = validate['tax_value']\n",
    "x_test = test.drop(columns = ['tax_value'])\n",
    "y_test = test['tax_value']"
   ]
  },
  {
   "cell_type": "markdown",
   "id": "9a57b8ec",
   "metadata": {},
   "source": [
    "Apply the scalers we talked about in this lesson to your data and visualize the results for the unscaled and scaled distribution .\n"
   ]
  },
  {
   "cell_type": "code",
   "execution_count": null,
   "id": "1a2d753b",
   "metadata": {},
   "outputs": [],
   "source": [
    "mm_scaler = MinMaxScaler()\n",
    "mm_scaler.fit(sfr_train)"
   ]
  },
  {
   "cell_type": "markdown",
   "id": "ebc04308",
   "metadata": {},
   "source": [
    "Apply the .inverse_transform method to your scaled data. Is the resulting dataset the exact same as the original data?"
   ]
  },
  {
   "cell_type": "markdown",
   "id": "d5c75987",
   "metadata": {},
   "source": [
    "Read the documentation for sklearn's QuantileTransformer. Use normal for the output_distribution and apply this scaler to your data. Visualize the result of your data scaling."
   ]
  },
  {
   "cell_type": "markdown",
   "id": "e3b7e540",
   "metadata": {},
   "source": [
    "Use the QuantileTransformer, but omit the output_distribution argument. Visualize your results. What do you notice?"
   ]
  },
  {
   "cell_type": "markdown",
   "id": "6cd883cd",
   "metadata": {},
   "source": [
    "Based on the work you've done, choose a scaling method for your dataset. Write a function within your prepare.py that accepts as input the train, validate, and test data splits, and returns the scaled versions of each. Be sure to only learn the parameters for scaling from your training data!"
   ]
  },
  {
   "cell_type": "code",
   "execution_count": null,
   "id": "d815c7bd",
   "metadata": {},
   "outputs": [],
   "source": []
  }
 ],
 "metadata": {
  "kernelspec": {
   "display_name": "Python 3 (ipykernel)",
   "language": "python",
   "name": "python3"
  },
  "language_info": {
   "codemirror_mode": {
    "name": "ipython",
    "version": 3
   },
   "file_extension": ".py",
   "mimetype": "text/x-python",
   "name": "python",
   "nbconvert_exporter": "python",
   "pygments_lexer": "ipython3",
   "version": "3.9.13"
  }
 },
 "nbformat": 4,
 "nbformat_minor": 5
}
