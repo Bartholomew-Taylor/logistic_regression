{
 "cells": [
  {
   "cell_type": "code",
   "execution_count": 26,
   "id": "1858c4ce",
   "metadata": {},
   "outputs": [],
   "source": [
    "import warnings\n",
    "warnings.filterwarnings('ignore')\n",
    "from sklearn.metrics import precision_score\n",
    "from sklearn.metrics import accuracy_score\n",
    "from sklearn.metrics import recall_score\n",
    "from sklearn.metrics import classification_report\n",
    "import pandas as pd\n",
    "from scipy import stats\n",
    "from pydataset import data\n",
    "import numpy as np\n",
    "import env\n",
    "import matplotlib.pyplot as plt\n",
    "import os\n",
    "import prepare\n",
    "import wrangle\n",
    "from sklearn.model_selection import train_test_split\n",
    "from sklearn.impute import SimpleImputer\n",
    "import seaborn as sns\n",
    "from sklearn.preprocessing import MinMaxScaler\n",
    "from sklearn.preprocessing import StandardScaler\n",
    "from sklearn.preprocessing import RobustScaler\n",
    "import explore\n",
    "from sklearn.linear_model import LinearRegression\n",
    "from sklearn.metrics import mean_squared_error, r2_score, explained_variance_score\n",
    "from math import sqrt"
   ]
  },
  {
   "cell_type": "code",
   "execution_count": 3,
   "id": "37593444",
   "metadata": {},
   "outputs": [],
   "source": [
    "df = wrangle.get_zillow_sfr_data()"
   ]
  },
  {
   "cell_type": "code",
   "execution_count": 4,
   "id": "4951ddf5",
   "metadata": {},
   "outputs": [],
   "source": [
    "train, validate, test = wrangle.clean_prep_zillow(df)"
   ]
  },
  {
   "cell_type": "code",
   "execution_count": 5,
   "id": "0f4b068e",
   "metadata": {},
   "outputs": [
    {
     "data": {
      "text/html": [
       "<div>\n",
       "<style scoped>\n",
       "    .dataframe tbody tr th:only-of-type {\n",
       "        vertical-align: middle;\n",
       "    }\n",
       "\n",
       "    .dataframe tbody tr th {\n",
       "        vertical-align: top;\n",
       "    }\n",
       "\n",
       "    .dataframe thead th {\n",
       "        text-align: right;\n",
       "    }\n",
       "</style>\n",
       "<table border=\"1\" class=\"dataframe\">\n",
       "  <thead>\n",
       "    <tr style=\"text-align: right;\">\n",
       "      <th></th>\n",
       "      <th>bedroom</th>\n",
       "      <th>bathroom</th>\n",
       "      <th>sqrft</th>\n",
       "      <th>tax_value</th>\n",
       "      <th>year_built</th>\n",
       "      <th>taxamount</th>\n",
       "      <th>fips</th>\n",
       "    </tr>\n",
       "  </thead>\n",
       "  <tbody>\n",
       "    <tr>\n",
       "      <th>1766466</th>\n",
       "      <td>3.0</td>\n",
       "      <td>2.0</td>\n",
       "      <td>1642.0</td>\n",
       "      <td>231120.0</td>\n",
       "      <td>1960.0</td>\n",
       "      <td>2898.13</td>\n",
       "      <td>6037.0</td>\n",
       "    </tr>\n",
       "    <tr>\n",
       "      <th>1073889</th>\n",
       "      <td>3.0</td>\n",
       "      <td>2.0</td>\n",
       "      <td>1858.0</td>\n",
       "      <td>178499.0</td>\n",
       "      <td>1955.0</td>\n",
       "      <td>2204.12</td>\n",
       "      <td>6059.0</td>\n",
       "    </tr>\n",
       "    <tr>\n",
       "      <th>1223806</th>\n",
       "      <td>5.0</td>\n",
       "      <td>5.0</td>\n",
       "      <td>4433.0</td>\n",
       "      <td>913447.0</td>\n",
       "      <td>2001.0</td>\n",
       "      <td>10717.51</td>\n",
       "      <td>6037.0</td>\n",
       "    </tr>\n",
       "    <tr>\n",
       "      <th>1694410</th>\n",
       "      <td>2.0</td>\n",
       "      <td>1.0</td>\n",
       "      <td>888.0</td>\n",
       "      <td>54621.0</td>\n",
       "      <td>1953.0</td>\n",
       "      <td>606.26</td>\n",
       "      <td>6037.0</td>\n",
       "    </tr>\n",
       "    <tr>\n",
       "      <th>1436362</th>\n",
       "      <td>2.0</td>\n",
       "      <td>2.0</td>\n",
       "      <td>1966.0</td>\n",
       "      <td>760368.0</td>\n",
       "      <td>1925.0</td>\n",
       "      <td>8290.04</td>\n",
       "      <td>6037.0</td>\n",
       "    </tr>\n",
       "  </tbody>\n",
       "</table>\n",
       "</div>"
      ],
      "text/plain": [
       "         bedroom  bathroom   sqrft  tax_value  year_built  taxamount    fips\n",
       "1766466      3.0       2.0  1642.0   231120.0      1960.0    2898.13  6037.0\n",
       "1073889      3.0       2.0  1858.0   178499.0      1955.0    2204.12  6059.0\n",
       "1223806      5.0       5.0  4433.0   913447.0      2001.0   10717.51  6037.0\n",
       "1694410      2.0       1.0   888.0    54621.0      1953.0     606.26  6037.0\n",
       "1436362      2.0       2.0  1966.0   760368.0      1925.0    8290.04  6037.0"
      ]
     },
     "execution_count": 5,
     "metadata": {},
     "output_type": "execute_result"
    }
   ],
   "source": [
    "train.head()"
   ]
  },
  {
   "cell_type": "markdown",
   "id": "7bcde870",
   "metadata": {},
   "source": [
    "Fit a linear regression model (ordinary least squares) and compute yhat, predictions of taxvaluedollarcnt using only calculatedfinishedsqft."
   ]
  },
  {
   "cell_type": "code",
   "execution_count": 13,
   "id": "2ee68c5a",
   "metadata": {},
   "outputs": [],
   "source": [
    "baseline = round((train['tax_value'].mean()),2)"
   ]
  },
  {
   "cell_type": "code",
   "execution_count": 14,
   "id": "a6f5beff",
   "metadata": {},
   "outputs": [],
   "source": [
    "preds = train[['tax_value','sqrft']]"
   ]
  },
  {
   "cell_type": "code",
   "execution_count": 15,
   "id": "af7db422",
   "metadata": {},
   "outputs": [
    {
     "data": {
      "text/html": [
       "<div>\n",
       "<style scoped>\n",
       "    .dataframe tbody tr th:only-of-type {\n",
       "        vertical-align: middle;\n",
       "    }\n",
       "\n",
       "    .dataframe tbody tr th {\n",
       "        vertical-align: top;\n",
       "    }\n",
       "\n",
       "    .dataframe thead th {\n",
       "        text-align: right;\n",
       "    }\n",
       "</style>\n",
       "<table border=\"1\" class=\"dataframe\">\n",
       "  <thead>\n",
       "    <tr style=\"text-align: right;\">\n",
       "      <th></th>\n",
       "      <th>tax_value</th>\n",
       "      <th>sqrft</th>\n",
       "      <th>baseline_preds</th>\n",
       "    </tr>\n",
       "  </thead>\n",
       "  <tbody>\n",
       "    <tr>\n",
       "      <th>1766466</th>\n",
       "      <td>231120.0</td>\n",
       "      <td>1642.0</td>\n",
       "      <td>460889.16</td>\n",
       "    </tr>\n",
       "    <tr>\n",
       "      <th>1073889</th>\n",
       "      <td>178499.0</td>\n",
       "      <td>1858.0</td>\n",
       "      <td>460889.16</td>\n",
       "    </tr>\n",
       "    <tr>\n",
       "      <th>1223806</th>\n",
       "      <td>913447.0</td>\n",
       "      <td>4433.0</td>\n",
       "      <td>460889.16</td>\n",
       "    </tr>\n",
       "    <tr>\n",
       "      <th>1694410</th>\n",
       "      <td>54621.0</td>\n",
       "      <td>888.0</td>\n",
       "      <td>460889.16</td>\n",
       "    </tr>\n",
       "    <tr>\n",
       "      <th>1436362</th>\n",
       "      <td>760368.0</td>\n",
       "      <td>1966.0</td>\n",
       "      <td>460889.16</td>\n",
       "    </tr>\n",
       "  </tbody>\n",
       "</table>\n",
       "</div>"
      ],
      "text/plain": [
       "         tax_value   sqrft  baseline_preds\n",
       "1766466   231120.0  1642.0       460889.16\n",
       "1073889   178499.0  1858.0       460889.16\n",
       "1223806   913447.0  4433.0       460889.16\n",
       "1694410    54621.0   888.0       460889.16\n",
       "1436362   760368.0  1966.0       460889.16"
      ]
     },
     "execution_count": 15,
     "metadata": {},
     "output_type": "execute_result"
    }
   ],
   "source": [
    "preds['baseline_preds'] = baseline\n",
    "preds.head()"
   ]
  },
  {
   "cell_type": "code",
   "execution_count": 16,
   "id": "9ea2dd1c",
   "metadata": {},
   "outputs": [
    {
     "data": {
      "text/html": [
       "<style>#sk-container-id-2 {color: black;background-color: white;}#sk-container-id-2 pre{padding: 0;}#sk-container-id-2 div.sk-toggleable {background-color: white;}#sk-container-id-2 label.sk-toggleable__label {cursor: pointer;display: block;width: 100%;margin-bottom: 0;padding: 0.3em;box-sizing: border-box;text-align: center;}#sk-container-id-2 label.sk-toggleable__label-arrow:before {content: \"▸\";float: left;margin-right: 0.25em;color: #696969;}#sk-container-id-2 label.sk-toggleable__label-arrow:hover:before {color: black;}#sk-container-id-2 div.sk-estimator:hover label.sk-toggleable__label-arrow:before {color: black;}#sk-container-id-2 div.sk-toggleable__content {max-height: 0;max-width: 0;overflow: hidden;text-align: left;background-color: #f0f8ff;}#sk-container-id-2 div.sk-toggleable__content pre {margin: 0.2em;color: black;border-radius: 0.25em;background-color: #f0f8ff;}#sk-container-id-2 input.sk-toggleable__control:checked~div.sk-toggleable__content {max-height: 200px;max-width: 100%;overflow: auto;}#sk-container-id-2 input.sk-toggleable__control:checked~label.sk-toggleable__label-arrow:before {content: \"▾\";}#sk-container-id-2 div.sk-estimator input.sk-toggleable__control:checked~label.sk-toggleable__label {background-color: #d4ebff;}#sk-container-id-2 div.sk-label input.sk-toggleable__control:checked~label.sk-toggleable__label {background-color: #d4ebff;}#sk-container-id-2 input.sk-hidden--visually {border: 0;clip: rect(1px 1px 1px 1px);clip: rect(1px, 1px, 1px, 1px);height: 1px;margin: -1px;overflow: hidden;padding: 0;position: absolute;width: 1px;}#sk-container-id-2 div.sk-estimator {font-family: monospace;background-color: #f0f8ff;border: 1px dotted black;border-radius: 0.25em;box-sizing: border-box;margin-bottom: 0.5em;}#sk-container-id-2 div.sk-estimator:hover {background-color: #d4ebff;}#sk-container-id-2 div.sk-parallel-item::after {content: \"\";width: 100%;border-bottom: 1px solid gray;flex-grow: 1;}#sk-container-id-2 div.sk-label:hover label.sk-toggleable__label {background-color: #d4ebff;}#sk-container-id-2 div.sk-serial::before {content: \"\";position: absolute;border-left: 1px solid gray;box-sizing: border-box;top: 0;bottom: 0;left: 50%;z-index: 0;}#sk-container-id-2 div.sk-serial {display: flex;flex-direction: column;align-items: center;background-color: white;padding-right: 0.2em;padding-left: 0.2em;position: relative;}#sk-container-id-2 div.sk-item {position: relative;z-index: 1;}#sk-container-id-2 div.sk-parallel {display: flex;align-items: stretch;justify-content: center;background-color: white;position: relative;}#sk-container-id-2 div.sk-item::before, #sk-container-id-2 div.sk-parallel-item::before {content: \"\";position: absolute;border-left: 1px solid gray;box-sizing: border-box;top: 0;bottom: 0;left: 50%;z-index: -1;}#sk-container-id-2 div.sk-parallel-item {display: flex;flex-direction: column;z-index: 1;position: relative;background-color: white;}#sk-container-id-2 div.sk-parallel-item:first-child::after {align-self: flex-end;width: 50%;}#sk-container-id-2 div.sk-parallel-item:last-child::after {align-self: flex-start;width: 50%;}#sk-container-id-2 div.sk-parallel-item:only-child::after {width: 0;}#sk-container-id-2 div.sk-dashed-wrapped {border: 1px dashed gray;margin: 0 0.4em 0.5em 0.4em;box-sizing: border-box;padding-bottom: 0.4em;background-color: white;}#sk-container-id-2 div.sk-label label {font-family: monospace;font-weight: bold;display: inline-block;line-height: 1.2em;}#sk-container-id-2 div.sk-label-container {text-align: center;}#sk-container-id-2 div.sk-container {/* jupyter's `normalize.less` sets `[hidden] { display: none; }` but bootstrap.min.css set `[hidden] { display: none !important; }` so we also need the `!important` here to be able to override the default hidden behavior on the sphinx rendered scikit-learn.org. See: https://github.com/scikit-learn/scikit-learn/issues/21755 */display: inline-block !important;position: relative;}#sk-container-id-2 div.sk-text-repr-fallback {display: none;}</style><div id=\"sk-container-id-2\" class=\"sk-top-container\"><div class=\"sk-text-repr-fallback\"><pre>LinearRegression()</pre><b>In a Jupyter environment, please rerun this cell to show the HTML representation or trust the notebook. <br />On GitHub, the HTML representation is unable to render, please try loading this page with nbviewer.org.</b></div><div class=\"sk-container\" hidden><div class=\"sk-item\"><div class=\"sk-estimator sk-toggleable\"><input class=\"sk-toggleable__control sk-hidden--visually\" id=\"sk-estimator-id-2\" type=\"checkbox\" checked><label for=\"sk-estimator-id-2\" class=\"sk-toggleable__label sk-toggleable__label-arrow\">LinearRegression</label><div class=\"sk-toggleable__content\"><pre>LinearRegression()</pre></div></div></div></div></div>"
      ],
      "text/plain": [
       "LinearRegression()"
      ]
     },
     "execution_count": 16,
     "metadata": {},
     "output_type": "execute_result"
    }
   ],
   "source": [
    "ols_model = LinearRegression()\n",
    "\n",
    "ols_model.fit(train[['sqrft']], train[['tax_value']])"
   ]
  },
  {
   "cell_type": "code",
   "execution_count": 17,
   "id": "5759ea81",
   "metadata": {
    "scrolled": true
   },
   "outputs": [
    {
     "data": {
      "text/html": [
       "<div>\n",
       "<style scoped>\n",
       "    .dataframe tbody tr th:only-of-type {\n",
       "        vertical-align: middle;\n",
       "    }\n",
       "\n",
       "    .dataframe tbody tr th {\n",
       "        vertical-align: top;\n",
       "    }\n",
       "\n",
       "    .dataframe thead th {\n",
       "        text-align: right;\n",
       "    }\n",
       "</style>\n",
       "<table border=\"1\" class=\"dataframe\">\n",
       "  <thead>\n",
       "    <tr style=\"text-align: right;\">\n",
       "      <th></th>\n",
       "      <th>tax_value</th>\n",
       "      <th>sqrft</th>\n",
       "      <th>baseline_preds</th>\n",
       "      <th>yhat</th>\n",
       "    </tr>\n",
       "  </thead>\n",
       "  <tbody>\n",
       "    <tr>\n",
       "      <th>1766466</th>\n",
       "      <td>231120.0</td>\n",
       "      <td>1642.0</td>\n",
       "      <td>460889.16</td>\n",
       "      <td>4.091226e+05</td>\n",
       "    </tr>\n",
       "    <tr>\n",
       "      <th>1073889</th>\n",
       "      <td>178499.0</td>\n",
       "      <td>1858.0</td>\n",
       "      <td>460889.16</td>\n",
       "      <td>4.593490e+05</td>\n",
       "    </tr>\n",
       "    <tr>\n",
       "      <th>1223806</th>\n",
       "      <td>913447.0</td>\n",
       "      <td>4433.0</td>\n",
       "      <td>460889.16</td>\n",
       "      <td>1.058113e+06</td>\n",
       "    </tr>\n",
       "    <tr>\n",
       "      <th>1694410</th>\n",
       "      <td>54621.0</td>\n",
       "      <td>888.0</td>\n",
       "      <td>460889.16</td>\n",
       "      <td>2.337953e+05</td>\n",
       "    </tr>\n",
       "    <tr>\n",
       "      <th>1436362</th>\n",
       "      <td>760368.0</td>\n",
       "      <td>1966.0</td>\n",
       "      <td>460889.16</td>\n",
       "      <td>4.844622e+05</td>\n",
       "    </tr>\n",
       "  </tbody>\n",
       "</table>\n",
       "</div>"
      ],
      "text/plain": [
       "         tax_value   sqrft  baseline_preds          yhat\n",
       "1766466   231120.0  1642.0       460889.16  4.091226e+05\n",
       "1073889   178499.0  1858.0       460889.16  4.593490e+05\n",
       "1223806   913447.0  4433.0       460889.16  1.058113e+06\n",
       "1694410    54621.0   888.0       460889.16  2.337953e+05\n",
       "1436362   760368.0  1966.0       460889.16  4.844622e+05"
      ]
     },
     "execution_count": 17,
     "metadata": {},
     "output_type": "execute_result"
    }
   ],
   "source": [
    "preds['yhat'] = ols_model.predict(train[['sqrft']])\n",
    "preds.head()"
   ]
  },
  {
   "cell_type": "markdown",
   "id": "d1dc6919",
   "metadata": {},
   "source": [
    "Plot the residuals for the linear regression model that you made."
   ]
  },
  {
   "cell_type": "code",
   "execution_count": 18,
   "id": "02e0c49d",
   "metadata": {},
   "outputs": [
    {
     "data": {
      "text/html": [
       "<div>\n",
       "<style scoped>\n",
       "    .dataframe tbody tr th:only-of-type {\n",
       "        vertical-align: middle;\n",
       "    }\n",
       "\n",
       "    .dataframe tbody tr th {\n",
       "        vertical-align: top;\n",
       "    }\n",
       "\n",
       "    .dataframe thead th {\n",
       "        text-align: right;\n",
       "    }\n",
       "</style>\n",
       "<table border=\"1\" class=\"dataframe\">\n",
       "  <thead>\n",
       "    <tr style=\"text-align: right;\">\n",
       "      <th></th>\n",
       "      <th>tax_value</th>\n",
       "      <th>sqrft</th>\n",
       "      <th>baseline_preds</th>\n",
       "      <th>yhat</th>\n",
       "      <th>baseline_res</th>\n",
       "    </tr>\n",
       "  </thead>\n",
       "  <tbody>\n",
       "    <tr>\n",
       "      <th>1766466</th>\n",
       "      <td>231120.0</td>\n",
       "      <td>1642.0</td>\n",
       "      <td>460889.16</td>\n",
       "      <td>4.091226e+05</td>\n",
       "      <td>229769.16</td>\n",
       "    </tr>\n",
       "    <tr>\n",
       "      <th>1073889</th>\n",
       "      <td>178499.0</td>\n",
       "      <td>1858.0</td>\n",
       "      <td>460889.16</td>\n",
       "      <td>4.593490e+05</td>\n",
       "      <td>282390.16</td>\n",
       "    </tr>\n",
       "    <tr>\n",
       "      <th>1223806</th>\n",
       "      <td>913447.0</td>\n",
       "      <td>4433.0</td>\n",
       "      <td>460889.16</td>\n",
       "      <td>1.058113e+06</td>\n",
       "      <td>-452557.84</td>\n",
       "    </tr>\n",
       "    <tr>\n",
       "      <th>1694410</th>\n",
       "      <td>54621.0</td>\n",
       "      <td>888.0</td>\n",
       "      <td>460889.16</td>\n",
       "      <td>2.337953e+05</td>\n",
       "      <td>406268.16</td>\n",
       "    </tr>\n",
       "    <tr>\n",
       "      <th>1436362</th>\n",
       "      <td>760368.0</td>\n",
       "      <td>1966.0</td>\n",
       "      <td>460889.16</td>\n",
       "      <td>4.844622e+05</td>\n",
       "      <td>-299478.84</td>\n",
       "    </tr>\n",
       "  </tbody>\n",
       "</table>\n",
       "</div>"
      ],
      "text/plain": [
       "         tax_value   sqrft  baseline_preds          yhat  baseline_res\n",
       "1766466   231120.0  1642.0       460889.16  4.091226e+05     229769.16\n",
       "1073889   178499.0  1858.0       460889.16  4.593490e+05     282390.16\n",
       "1223806   913447.0  4433.0       460889.16  1.058113e+06    -452557.84\n",
       "1694410    54621.0   888.0       460889.16  2.337953e+05     406268.16\n",
       "1436362   760368.0  1966.0       460889.16  4.844622e+05    -299478.84"
      ]
     },
     "execution_count": 18,
     "metadata": {},
     "output_type": "execute_result"
    }
   ],
   "source": [
    "preds['baseline_res'] = preds['baseline_preds'] - preds['tax_value']\n",
    "preds.head()"
   ]
  },
  {
   "cell_type": "code",
   "execution_count": 19,
   "id": "38934077",
   "metadata": {
    "scrolled": true
   },
   "outputs": [
    {
     "data": {
      "image/png": "[encoded data removed]",
      "text/plain": [
       "<Figure size 640x480 with 1 Axes>"
      ]
     },
     "metadata": {},
     "output_type": "display_data"
    }
   ],
   "source": [
    "plt.scatter(preds['sqrft'], preds['baseline_res'])\n",
    "plt.xlabel('sqrft')\n",
    "plt.ylabel('Baseline Residual')\n",
    "plt.show()"
   ]
  },
  {
   "cell_type": "code",
   "execution_count": 20,
   "id": "d3769ff3",
   "metadata": {
    "scrolled": true
   },
   "outputs": [
    {
     "data": {
      "text/html": [
       "<div>\n",
       "<style scoped>\n",
       "    .dataframe tbody tr th:only-of-type {\n",
       "        vertical-align: middle;\n",
       "    }\n",
       "\n",
       "    .dataframe tbody tr th {\n",
       "        vertical-align: top;\n",
       "    }\n",
       "\n",
       "    .dataframe thead th {\n",
       "        text-align: right;\n",
       "    }\n",
       "</style>\n",
       "<table border=\"1\" class=\"dataframe\">\n",
       "  <thead>\n",
       "    <tr style=\"text-align: right;\">\n",
       "      <th></th>\n",
       "      <th>tax_value</th>\n",
       "      <th>sqrft</th>\n",
       "      <th>baseline_preds</th>\n",
       "      <th>yhat</th>\n",
       "      <th>baseline_res</th>\n",
       "      <th>yhat_res</th>\n",
       "    </tr>\n",
       "  </thead>\n",
       "  <tbody>\n",
       "    <tr>\n",
       "      <th>1766466</th>\n",
       "      <td>231120.0</td>\n",
       "      <td>1642.0</td>\n",
       "      <td>460889.16</td>\n",
       "      <td>4.091226e+05</td>\n",
       "      <td>229769.16</td>\n",
       "      <td>178002.630956</td>\n",
       "    </tr>\n",
       "    <tr>\n",
       "      <th>1073889</th>\n",
       "      <td>178499.0</td>\n",
       "      <td>1858.0</td>\n",
       "      <td>460889.16</td>\n",
       "      <td>4.593490e+05</td>\n",
       "      <td>282390.16</td>\n",
       "      <td>280850.032318</td>\n",
       "    </tr>\n",
       "    <tr>\n",
       "      <th>1223806</th>\n",
       "      <td>913447.0</td>\n",
       "      <td>4433.0</td>\n",
       "      <td>460889.16</td>\n",
       "      <td>1.058113e+06</td>\n",
       "      <td>-452557.84</td>\n",
       "      <td>144665.844854</td>\n",
       "    </tr>\n",
       "    <tr>\n",
       "      <th>1694410</th>\n",
       "      <td>54621.0</td>\n",
       "      <td>888.0</td>\n",
       "      <td>460889.16</td>\n",
       "      <td>2.337953e+05</td>\n",
       "      <td>406268.16</td>\n",
       "      <td>179174.285460</td>\n",
       "    </tr>\n",
       "    <tr>\n",
       "      <th>1436362</th>\n",
       "      <td>760368.0</td>\n",
       "      <td>1966.0</td>\n",
       "      <td>460889.16</td>\n",
       "      <td>4.844622e+05</td>\n",
       "      <td>-299478.84</td>\n",
       "      <td>-275905.767000</td>\n",
       "    </tr>\n",
       "  </tbody>\n",
       "</table>\n",
       "</div>"
      ],
      "text/plain": [
       "         tax_value   sqrft  baseline_preds          yhat  baseline_res  \\\n",
       "1766466   231120.0  1642.0       460889.16  4.091226e+05     229769.16   \n",
       "1073889   178499.0  1858.0       460889.16  4.593490e+05     282390.16   \n",
       "1223806   913447.0  4433.0       460889.16  1.058113e+06    -452557.84   \n",
       "1694410    54621.0   888.0       460889.16  2.337953e+05     406268.16   \n",
       "1436362   760368.0  1966.0       460889.16  4.844622e+05    -299478.84   \n",
       "\n",
       "              yhat_res  \n",
       "1766466  178002.630956  \n",
       "1073889  280850.032318  \n",
       "1223806  144665.844854  \n",
       "1694410  179174.285460  \n",
       "1436362 -275905.767000  "
      ]
     },
     "execution_count": 20,
     "metadata": {},
     "output_type": "execute_result"
    }
   ],
   "source": [
    "preds['yhat_res'] = preds['yhat'] - preds['tax_value']\n",
    "preds.head()"
   ]
  },
  {
   "cell_type": "code",
   "execution_count": 32,
   "id": "65c377c3",
   "metadata": {},
   "outputs": [
    {
     "data": {
      "image/png": "[encoded data removed]",
      "text/plain": [
       "<Figure size 640x480 with 1 Axes>"
      ]
     },
     "metadata": {},
     "output_type": "display_data"
    }
   ],
   "source": [
    "plt.scatter(preds['sqrft'], preds['yhat_res'])\n",
    "plt.xlabel('sqrft')\n",
    "plt.ylabel('Predictions residuals')\n",
    "plt.show()"
   ]
  },
  {
   "cell_type": "markdown",
   "id": "72a0aac3",
   "metadata": {},
   "source": [
    "Calculate the sum of squared errors, explained sum of squares, total sum of squares, mean squared error, and root mean squared error for your model."
   ]
  },
  {
   "cell_type": "markdown",
   "id": "6a8a9cc8",
   "metadata": {},
   "source": [
    "Calculate the sum of squared errors, mean squared error, and root mean squared error for the baseline model (i.e. a model that always predicts the average taxvaluedollarcnt amount)."
   ]
  },
  {
   "cell_type": "markdown",
   "id": "352d46c4",
   "metadata": {},
   "source": [
    "Calculate the sum of squared errors, mean squared error, and root mean squared error for the baseline model (i.e. a model that always predicts the average taxvaluedollarcnt amount)."
   ]
  },
  {
   "cell_type": "code",
   "execution_count": 22,
   "id": "290d1af8",
   "metadata": {
    "scrolled": true
   },
   "outputs": [
    {
     "data": {
      "text/html": [
       "<div>\n",
       "<style scoped>\n",
       "    .dataframe tbody tr th:only-of-type {\n",
       "        vertical-align: middle;\n",
       "    }\n",
       "\n",
       "    .dataframe tbody tr th {\n",
       "        vertical-align: top;\n",
       "    }\n",
       "\n",
       "    .dataframe thead th {\n",
       "        text-align: right;\n",
       "    }\n",
       "</style>\n",
       "<table border=\"1\" class=\"dataframe\">\n",
       "  <thead>\n",
       "    <tr style=\"text-align: right;\">\n",
       "      <th></th>\n",
       "      <th>tax_value</th>\n",
       "      <th>sqrft</th>\n",
       "      <th>baseline_preds</th>\n",
       "      <th>yhat</th>\n",
       "      <th>baseline_res</th>\n",
       "      <th>yhat_res</th>\n",
       "      <th>baseline_res_squared</th>\n",
       "      <th>yhat_res_squared</th>\n",
       "    </tr>\n",
       "  </thead>\n",
       "  <tbody>\n",
       "    <tr>\n",
       "      <th>1766466</th>\n",
       "      <td>231120.0</td>\n",
       "      <td>1642.0</td>\n",
       "      <td>460889.16</td>\n",
       "      <td>4.091226e+05</td>\n",
       "      <td>229769.16</td>\n",
       "      <td>178002.630956</td>\n",
       "      <td>5.279387e+10</td>\n",
       "      <td>3.168494e+10</td>\n",
       "    </tr>\n",
       "    <tr>\n",
       "      <th>1073889</th>\n",
       "      <td>178499.0</td>\n",
       "      <td>1858.0</td>\n",
       "      <td>460889.16</td>\n",
       "      <td>4.593490e+05</td>\n",
       "      <td>282390.16</td>\n",
       "      <td>280850.032318</td>\n",
       "      <td>7.974420e+10</td>\n",
       "      <td>7.887674e+10</td>\n",
       "    </tr>\n",
       "    <tr>\n",
       "      <th>1223806</th>\n",
       "      <td>913447.0</td>\n",
       "      <td>4433.0</td>\n",
       "      <td>460889.16</td>\n",
       "      <td>1.058113e+06</td>\n",
       "      <td>-452557.84</td>\n",
       "      <td>144665.844854</td>\n",
       "      <td>2.048086e+11</td>\n",
       "      <td>2.092821e+10</td>\n",
       "    </tr>\n",
       "    <tr>\n",
       "      <th>1694410</th>\n",
       "      <td>54621.0</td>\n",
       "      <td>888.0</td>\n",
       "      <td>460889.16</td>\n",
       "      <td>2.337953e+05</td>\n",
       "      <td>406268.16</td>\n",
       "      <td>179174.285460</td>\n",
       "      <td>1.650538e+11</td>\n",
       "      <td>3.210342e+10</td>\n",
       "    </tr>\n",
       "    <tr>\n",
       "      <th>1436362</th>\n",
       "      <td>760368.0</td>\n",
       "      <td>1966.0</td>\n",
       "      <td>460889.16</td>\n",
       "      <td>4.844622e+05</td>\n",
       "      <td>-299478.84</td>\n",
       "      <td>-275905.767000</td>\n",
       "      <td>8.968758e+10</td>\n",
       "      <td>7.612399e+10</td>\n",
       "    </tr>\n",
       "  </tbody>\n",
       "</table>\n",
       "</div>"
      ],
      "text/plain": [
       "         tax_value   sqrft  baseline_preds          yhat  baseline_res  \\\n",
       "1766466   231120.0  1642.0       460889.16  4.091226e+05     229769.16   \n",
       "1073889   178499.0  1858.0       460889.16  4.593490e+05     282390.16   \n",
       "1223806   913447.0  4433.0       460889.16  1.058113e+06    -452557.84   \n",
       "1694410    54621.0   888.0       460889.16  2.337953e+05     406268.16   \n",
       "1436362   760368.0  1966.0       460889.16  4.844622e+05    -299478.84   \n",
       "\n",
       "              yhat_res  baseline_res_squared  yhat_res_squared  \n",
       "1766466  178002.630956          5.279387e+10      3.168494e+10  \n",
       "1073889  280850.032318          7.974420e+10      7.887674e+10  \n",
       "1223806  144665.844854          2.048086e+11      2.092821e+10  \n",
       "1694410  179174.285460          1.650538e+11      3.210342e+10  \n",
       "1436362 -275905.767000          8.968758e+10      7.612399e+10  "
      ]
     },
     "execution_count": 22,
     "metadata": {},
     "output_type": "execute_result"
    }
   ],
   "source": [
    "preds['baseline_res_squared'] = preds['baseline_res'] ** 2\n",
    "preds['yhat_res_squared'] = preds['yhat_res'] ** 2\n",
    "preds.head()"
   ]
  },
  {
   "cell_type": "code",
   "execution_count": 23,
   "id": "b27686eb",
   "metadata": {},
   "outputs": [
    {
     "data": {
      "text/plain": [
       "(6.913279888025121e+17, 5.509602060144793e+17)"
      ]
     },
     "execution_count": 23,
     "metadata": {},
     "output_type": "execute_result"
    }
   ],
   "source": [
    "sse_baseline = preds['baseline_res_squared'].sum()\n",
    "sse_yhat = preds['yhat_res_squared'].sum()\n",
    "sse_baseline, sse_yhat"
   ]
  },
  {
   "cell_type": "code",
   "execution_count": 24,
   "id": "21e35a1e",
   "metadata": {},
   "outputs": [
    {
     "data": {
      "text/plain": [
       "(461450140840.73047, 367756938502.37976)"
      ]
     },
     "execution_count": 24,
     "metadata": {},
     "output_type": "execute_result"
    }
   ],
   "source": [
    "mse_baseline = sse_baseline / len(preds)\n",
    "mse_yhat = sse_yhat / len(preds)\n",
    "mse_baseline, mse_yhat"
   ]
  },
  {
   "cell_type": "code",
   "execution_count": 27,
   "id": "ff642f07",
   "metadata": {},
   "outputs": [
    {
     "data": {
      "text/plain": [
       "(679301.2151032342, 606429.6649260982)"
      ]
     },
     "execution_count": 27,
     "metadata": {},
     "output_type": "execute_result"
    }
   ],
   "source": [
    "rmse_baseline = sqrt(mse_baseline)\n",
    "rmse_yhat = sqrt(mse_yhat)\n",
    "rmse_baseline, rmse_yhat"
   ]
  },
  {
   "cell_type": "code",
   "execution_count": 29,
   "id": "4feecf96",
   "metadata": {},
   "outputs": [
    {
     "data": {
      "text/html": [
       "<div>\n",
       "<style scoped>\n",
       "    .dataframe tbody tr th:only-of-type {\n",
       "        vertical-align: middle;\n",
       "    }\n",
       "\n",
       "    .dataframe tbody tr th {\n",
       "        vertical-align: top;\n",
       "    }\n",
       "\n",
       "    .dataframe thead th {\n",
       "        text-align: right;\n",
       "    }\n",
       "</style>\n",
       "<table border=\"1\" class=\"dataframe\">\n",
       "  <thead>\n",
       "    <tr style=\"text-align: right;\">\n",
       "      <th></th>\n",
       "      <th>tax_value</th>\n",
       "      <th>sqrft</th>\n",
       "      <th>baseline_preds</th>\n",
       "      <th>yhat</th>\n",
       "      <th>baseline_res</th>\n",
       "      <th>yhat_res</th>\n",
       "      <th>baseline_res_squared</th>\n",
       "      <th>yhat_res_squared</th>\n",
       "      <th>yhat_mean_res</th>\n",
       "    </tr>\n",
       "  </thead>\n",
       "  <tbody>\n",
       "    <tr>\n",
       "      <th>1766466</th>\n",
       "      <td>231120.0</td>\n",
       "      <td>1642.0</td>\n",
       "      <td>460889.16</td>\n",
       "      <td>4.091226e+05</td>\n",
       "      <td>229769.16</td>\n",
       "      <td>178002.630956</td>\n",
       "      <td>5.279387e+10</td>\n",
       "      <td>3.168494e+10</td>\n",
       "      <td>-51766.529044</td>\n",
       "    </tr>\n",
       "    <tr>\n",
       "      <th>1073889</th>\n",
       "      <td>178499.0</td>\n",
       "      <td>1858.0</td>\n",
       "      <td>460889.16</td>\n",
       "      <td>4.593490e+05</td>\n",
       "      <td>282390.16</td>\n",
       "      <td>280850.032318</td>\n",
       "      <td>7.974420e+10</td>\n",
       "      <td>7.887674e+10</td>\n",
       "      <td>-1540.127682</td>\n",
       "    </tr>\n",
       "    <tr>\n",
       "      <th>1223806</th>\n",
       "      <td>913447.0</td>\n",
       "      <td>4433.0</td>\n",
       "      <td>460889.16</td>\n",
       "      <td>1.058113e+06</td>\n",
       "      <td>-452557.84</td>\n",
       "      <td>144665.844854</td>\n",
       "      <td>2.048086e+11</td>\n",
       "      <td>2.092821e+10</td>\n",
       "      <td>597223.684854</td>\n",
       "    </tr>\n",
       "    <tr>\n",
       "      <th>1694410</th>\n",
       "      <td>54621.0</td>\n",
       "      <td>888.0</td>\n",
       "      <td>460889.16</td>\n",
       "      <td>2.337953e+05</td>\n",
       "      <td>406268.16</td>\n",
       "      <td>179174.285460</td>\n",
       "      <td>1.650538e+11</td>\n",
       "      <td>3.210342e+10</td>\n",
       "      <td>-227093.874540</td>\n",
       "    </tr>\n",
       "    <tr>\n",
       "      <th>1436362</th>\n",
       "      <td>760368.0</td>\n",
       "      <td>1966.0</td>\n",
       "      <td>460889.16</td>\n",
       "      <td>4.844622e+05</td>\n",
       "      <td>-299478.84</td>\n",
       "      <td>-275905.767000</td>\n",
       "      <td>8.968758e+10</td>\n",
       "      <td>7.612399e+10</td>\n",
       "      <td>23573.073000</td>\n",
       "    </tr>\n",
       "  </tbody>\n",
       "</table>\n",
       "</div>"
      ],
      "text/plain": [
       "         tax_value   sqrft  baseline_preds          yhat  baseline_res  \\\n",
       "1766466   231120.0  1642.0       460889.16  4.091226e+05     229769.16   \n",
       "1073889   178499.0  1858.0       460889.16  4.593490e+05     282390.16   \n",
       "1223806   913447.0  4433.0       460889.16  1.058113e+06    -452557.84   \n",
       "1694410    54621.0   888.0       460889.16  2.337953e+05     406268.16   \n",
       "1436362   760368.0  1966.0       460889.16  4.844622e+05    -299478.84   \n",
       "\n",
       "              yhat_res  baseline_res_squared  yhat_res_squared  yhat_mean_res  \n",
       "1766466  178002.630956          5.279387e+10      3.168494e+10  -51766.529044  \n",
       "1073889  280850.032318          7.974420e+10      7.887674e+10   -1540.127682  \n",
       "1223806  144665.844854          2.048086e+11      2.092821e+10  597223.684854  \n",
       "1694410  179174.285460          1.650538e+11      3.210342e+10 -227093.874540  \n",
       "1436362 -275905.767000          8.968758e+10      7.612399e+10   23573.073000  "
      ]
     },
     "execution_count": 29,
     "metadata": {},
     "output_type": "execute_result"
    }
   ],
   "source": [
    "preds['yhat_mean_res'] = preds['yhat'] - preds['baseline_preds']\n",
    "preds.head()"
   ]
  },
  {
   "cell_type": "code",
   "execution_count": 30,
   "id": "bc159edb",
   "metadata": {
    "scrolled": true
   },
   "outputs": [
    {
     "data": {
      "text/html": [
       "<div>\n",
       "<style scoped>\n",
       "    .dataframe tbody tr th:only-of-type {\n",
       "        vertical-align: middle;\n",
       "    }\n",
       "\n",
       "    .dataframe tbody tr th {\n",
       "        vertical-align: top;\n",
       "    }\n",
       "\n",
       "    .dataframe thead th {\n",
       "        text-align: right;\n",
       "    }\n",
       "</style>\n",
       "<table border=\"1\" class=\"dataframe\">\n",
       "  <thead>\n",
       "    <tr style=\"text-align: right;\">\n",
       "      <th></th>\n",
       "      <th>tax_value</th>\n",
       "      <th>sqrft</th>\n",
       "      <th>baseline_preds</th>\n",
       "      <th>yhat</th>\n",
       "      <th>baseline_res</th>\n",
       "      <th>yhat_res</th>\n",
       "      <th>baseline_res_squared</th>\n",
       "      <th>yhat_res_squared</th>\n",
       "      <th>yhat_mean_res</th>\n",
       "      <th>yhat_mean_res_squared</th>\n",
       "    </tr>\n",
       "  </thead>\n",
       "  <tbody>\n",
       "    <tr>\n",
       "      <th>1766466</th>\n",
       "      <td>231120.0</td>\n",
       "      <td>1642.0</td>\n",
       "      <td>460889.16</td>\n",
       "      <td>4.091226e+05</td>\n",
       "      <td>229769.16</td>\n",
       "      <td>178002.630956</td>\n",
       "      <td>5.279387e+10</td>\n",
       "      <td>3.168494e+10</td>\n",
       "      <td>-51766.529044</td>\n",
       "      <td>2.679774e+09</td>\n",
       "    </tr>\n",
       "    <tr>\n",
       "      <th>1073889</th>\n",
       "      <td>178499.0</td>\n",
       "      <td>1858.0</td>\n",
       "      <td>460889.16</td>\n",
       "      <td>4.593490e+05</td>\n",
       "      <td>282390.16</td>\n",
       "      <td>280850.032318</td>\n",
       "      <td>7.974420e+10</td>\n",
       "      <td>7.887674e+10</td>\n",
       "      <td>-1540.127682</td>\n",
       "      <td>2.371993e+06</td>\n",
       "    </tr>\n",
       "    <tr>\n",
       "      <th>1223806</th>\n",
       "      <td>913447.0</td>\n",
       "      <td>4433.0</td>\n",
       "      <td>460889.16</td>\n",
       "      <td>1.058113e+06</td>\n",
       "      <td>-452557.84</td>\n",
       "      <td>144665.844854</td>\n",
       "      <td>2.048086e+11</td>\n",
       "      <td>2.092821e+10</td>\n",
       "      <td>597223.684854</td>\n",
       "      <td>3.566761e+11</td>\n",
       "    </tr>\n",
       "    <tr>\n",
       "      <th>1694410</th>\n",
       "      <td>54621.0</td>\n",
       "      <td>888.0</td>\n",
       "      <td>460889.16</td>\n",
       "      <td>2.337953e+05</td>\n",
       "      <td>406268.16</td>\n",
       "      <td>179174.285460</td>\n",
       "      <td>1.650538e+11</td>\n",
       "      <td>3.210342e+10</td>\n",
       "      <td>-227093.874540</td>\n",
       "      <td>5.157163e+10</td>\n",
       "    </tr>\n",
       "    <tr>\n",
       "      <th>1436362</th>\n",
       "      <td>760368.0</td>\n",
       "      <td>1966.0</td>\n",
       "      <td>460889.16</td>\n",
       "      <td>4.844622e+05</td>\n",
       "      <td>-299478.84</td>\n",
       "      <td>-275905.767000</td>\n",
       "      <td>8.968758e+10</td>\n",
       "      <td>7.612399e+10</td>\n",
       "      <td>23573.073000</td>\n",
       "      <td>5.556898e+08</td>\n",
       "    </tr>\n",
       "  </tbody>\n",
       "</table>\n",
       "</div>"
      ],
      "text/plain": [
       "         tax_value   sqrft  baseline_preds          yhat  baseline_res  \\\n",
       "1766466   231120.0  1642.0       460889.16  4.091226e+05     229769.16   \n",
       "1073889   178499.0  1858.0       460889.16  4.593490e+05     282390.16   \n",
       "1223806   913447.0  4433.0       460889.16  1.058113e+06    -452557.84   \n",
       "1694410    54621.0   888.0       460889.16  2.337953e+05     406268.16   \n",
       "1436362   760368.0  1966.0       460889.16  4.844622e+05    -299478.84   \n",
       "\n",
       "              yhat_res  baseline_res_squared  yhat_res_squared  yhat_mean_res  \\\n",
       "1766466  178002.630956          5.279387e+10      3.168494e+10  -51766.529044   \n",
       "1073889  280850.032318          7.974420e+10      7.887674e+10   -1540.127682   \n",
       "1223806  144665.844854          2.048086e+11      2.092821e+10  597223.684854   \n",
       "1694410  179174.285460          1.650538e+11      3.210342e+10 -227093.874540   \n",
       "1436362 -275905.767000          8.968758e+10      7.612399e+10   23573.073000   \n",
       "\n",
       "         yhat_mean_res_squared  \n",
       "1766466           2.679774e+09  \n",
       "1073889           2.371993e+06  \n",
       "1223806           3.566761e+11  \n",
       "1694410           5.157163e+10  \n",
       "1436362           5.556898e+08  "
      ]
     },
     "execution_count": 30,
     "metadata": {},
     "output_type": "execute_result"
    }
   ],
   "source": [
    "preds['yhat_mean_res_squared'] = preds['yhat_mean_res'] ** 2\n",
    "preds.head()"
   ]
  },
  {
   "cell_type": "code",
   "execution_count": 31,
   "id": "44bdd7de",
   "metadata": {},
   "outputs": [
    {
     "data": {
      "text/plain": [
       "1.4036778278804811e+17"
      ]
     },
     "execution_count": 31,
     "metadata": {},
     "output_type": "execute_result"
    }
   ],
   "source": [
    "ess_baseline = 0\n",
    "ess_yhat = preds['yhat_mean_res_squared'].sum()\n",
    "ess_yhat"
   ]
  },
  {
   "cell_type": "markdown",
   "id": "a92140bf",
   "metadata": {},
   "source": [
    "Write python code that compares the sum of squared errors for your model against the sum of squared errors for the baseline model and outputs whether or not your model performs better than the baseline model."
   ]
  },
  {
   "cell_type": "code",
   "execution_count": 34,
   "id": "3b1c340c",
   "metadata": {},
   "outputs": [
    {
     "name": "stdout",
     "output_type": "stream",
     "text": [
      "your model has passed\n"
     ]
    }
   ],
   "source": [
    "if sse_baseline < sse_yhat:\n",
    "    print('your model is shite')\n",
    "else:\n",
    "    print('your model has passed')"
   ]
  },
  {
   "cell_type": "markdown",
   "id": "feea35cb",
   "metadata": {},
   "source": [
    "What is the amount of variance explained in your model?"
   ]
  },
  {
   "cell_type": "code",
   "execution_count": 35,
   "id": "909d9118",
   "metadata": {},
   "outputs": [
    {
     "name": "stdout",
     "output_type": "stream",
     "text": [
      "Explained Variance =  0.203\n"
     ]
    }
   ],
   "source": [
    "evs = explained_variance_score(preds.tax_value, preds.yhat)\n",
    "print('Explained Variance = ', round(evs,3))"
   ]
  },
  {
   "cell_type": "markdown",
   "id": "5e7423ed",
   "metadata": {},
   "source": [
    "Is your model better than the baseline model?"
   ]
  },
  {
   "cell_type": "markdown",
   "id": "dcd07e66",
   "metadata": {},
   "source": [
    "-Yes?"
   ]
  },
  {
   "cell_type": "markdown",
   "id": "8bd977ff",
   "metadata": {},
   "source": [
    "Create a file named evaluate.py that contains the following functions."
   ]
  },
  {
   "cell_type": "markdown",
   "id": "aa54e945",
   "metadata": {},
   "source": [
    "plot_residuals(y, yhat): creates a residual plot\n",
    "\n",
    "\n",
    "regression_errors(y, yhat): returns the following values:\n",
    "sum of squared errors (SSE)\n",
    "\n",
    "explained sum of squares (ESS)\n",
    "\n",
    "total sum of squares (TSS)\n",
    "\n",
    "mean squared error (MSE)\n",
    "\n",
    "root mean squared error (RMSE)\n",
    "\n",
    "baseline_mean_errors(y): computes the SSE, MSE, and RMSE for the baseline model\n",
    "\n",
    "better_than_baseline(y, yhat): returns true if your model performs better than the baseline, otherwise false\n"
   ]
  },
  {
   "cell_type": "code",
   "execution_count": null,
   "id": "a1e5f1d0",
   "metadata": {},
   "outputs": [],
   "source": []
  }
 ],
 "metadata": {
  "kernelspec": {
   "display_name": "Python 3 (ipykernel)",
   "language": "python",
   "name": "python3"
  },
  "language_info": {
   "codemirror_mode": {
    "name": "ipython",
    "version": 3
   },
   "file_extension": ".py",
   "mimetype": "text/x-python",
   "name": "python",
   "nbconvert_exporter": "python",
   "pygments_lexer": "ipython3",
   "version": "3.9.13"
  }
 },
 "nbformat": 4,
 "nbformat_minor": 5
}
