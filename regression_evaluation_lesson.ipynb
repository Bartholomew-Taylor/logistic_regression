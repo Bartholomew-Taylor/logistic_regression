{
 "cells": [
  {
   "cell_type": "code",
   "execution_count": 34,
   "id": "a81dd213",
   "metadata": {},
   "outputs": [],
   "source": [
    "import warnings\n",
    "warnings.filterwarnings('ignore')\n",
    "\n",
    "from sklearn.metrics import precision_score\n",
    "from sklearn.metrics import accuracy_score\n",
    "from sklearn.metrics import recall_score\n",
    "from sklearn.metrics import classification_report\n",
    "import pandas as pd\n",
    "from scipy import stats\n",
    "from pydataset import data\n",
    "import numpy as np\n",
    "import env\n",
    "import matplotlib.pyplot as plt\n",
    "import os\n",
    "import prepare\n",
    "import wrangle\n",
    "from sklearn.model_selection import train_test_split\n",
    "from sklearn.impute import SimpleImputer\n",
    "import seaborn as sns\n",
    "from sklearn.preprocessing import MinMaxScaler\n",
    "from sklearn.preprocessing import StandardScaler\n",
    "from sklearn.preprocessing import RobustScaler\n",
    "import explore\n",
    "from sklearn.linear_model import LinearRegression\n",
    "from sklearn.metrics import mean_squared_error, r2_score, explained_variance_score\n",
    "from math import sqrt\n"
   ]
  },
  {
   "cell_type": "code",
   "execution_count": 15,
   "id": "12267da6",
   "metadata": {},
   "outputs": [],
   "source": [
    "def get_auto_mpg():\n",
    "    \n",
    "    '''Acquire, clean, and return the auto-mpg dataset'''\n",
    "    \n",
    "    df = pd.read_fwf('auto-mpg.data', header=None)\n",
    "    \n",
    "    df.columns = ['mpg', 'cylinders', 'displ', 'horsepower', 'weight', 'acc',\n",
    "              'model_year', 'origin', 'name']\n",
    "    \n",
    "    df = df[df['horsepower'] != '?']\n",
    "    \n",
    "    df['horsepower'] = df['horsepower'].astype('float')\n",
    "    \n",
    "    return df"
   ]
  },
  {
   "cell_type": "code",
   "execution_count": 16,
   "id": "185bcb3b",
   "metadata": {},
   "outputs": [
    {
     "data": {
      "text/html": [
       "<div>\n",
       "<style scoped>\n",
       "    .dataframe tbody tr th:only-of-type {\n",
       "        vertical-align: middle;\n",
       "    }\n",
       "\n",
       "    .dataframe tbody tr th {\n",
       "        vertical-align: top;\n",
       "    }\n",
       "\n",
       "    .dataframe thead th {\n",
       "        text-align: right;\n",
       "    }\n",
       "</style>\n",
       "<table border=\"1\" class=\"dataframe\">\n",
       "  <thead>\n",
       "    <tr style=\"text-align: right;\">\n",
       "      <th></th>\n",
       "      <th>mpg</th>\n",
       "      <th>cylinders</th>\n",
       "      <th>displ</th>\n",
       "      <th>horsepower</th>\n",
       "      <th>weight</th>\n",
       "      <th>acc</th>\n",
       "      <th>model_year</th>\n",
       "      <th>origin</th>\n",
       "      <th>name</th>\n",
       "    </tr>\n",
       "  </thead>\n",
       "  <tbody>\n",
       "    <tr>\n",
       "      <th>0</th>\n",
       "      <td>18.0</td>\n",
       "      <td>8</td>\n",
       "      <td>307.0</td>\n",
       "      <td>130.0</td>\n",
       "      <td>3504.0</td>\n",
       "      <td>12.0</td>\n",
       "      <td>70</td>\n",
       "      <td>1</td>\n",
       "      <td>\"chevrolet chevelle malibu\"</td>\n",
       "    </tr>\n",
       "    <tr>\n",
       "      <th>1</th>\n",
       "      <td>15.0</td>\n",
       "      <td>8</td>\n",
       "      <td>350.0</td>\n",
       "      <td>165.0</td>\n",
       "      <td>3693.0</td>\n",
       "      <td>11.5</td>\n",
       "      <td>70</td>\n",
       "      <td>1</td>\n",
       "      <td>\"buick skylark 320\"</td>\n",
       "    </tr>\n",
       "    <tr>\n",
       "      <th>2</th>\n",
       "      <td>18.0</td>\n",
       "      <td>8</td>\n",
       "      <td>318.0</td>\n",
       "      <td>150.0</td>\n",
       "      <td>3436.0</td>\n",
       "      <td>11.0</td>\n",
       "      <td>70</td>\n",
       "      <td>1</td>\n",
       "      <td>\"plymouth satellite\"</td>\n",
       "    </tr>\n",
       "    <tr>\n",
       "      <th>3</th>\n",
       "      <td>16.0</td>\n",
       "      <td>8</td>\n",
       "      <td>304.0</td>\n",
       "      <td>150.0</td>\n",
       "      <td>3433.0</td>\n",
       "      <td>12.0</td>\n",
       "      <td>70</td>\n",
       "      <td>1</td>\n",
       "      <td>\"amc rebel sst\"</td>\n",
       "    </tr>\n",
       "    <tr>\n",
       "      <th>4</th>\n",
       "      <td>17.0</td>\n",
       "      <td>8</td>\n",
       "      <td>302.0</td>\n",
       "      <td>140.0</td>\n",
       "      <td>3449.0</td>\n",
       "      <td>10.5</td>\n",
       "      <td>70</td>\n",
       "      <td>1</td>\n",
       "      <td>\"ford torino\"</td>\n",
       "    </tr>\n",
       "  </tbody>\n",
       "</table>\n",
       "</div>"
      ],
      "text/plain": [
       "    mpg  cylinders  displ  horsepower  weight   acc  model_year  origin  \\\n",
       "0  18.0          8  307.0       130.0  3504.0  12.0          70       1   \n",
       "1  15.0          8  350.0       165.0  3693.0  11.5          70       1   \n",
       "2  18.0          8  318.0       150.0  3436.0  11.0          70       1   \n",
       "3  16.0          8  304.0       150.0  3433.0  12.0          70       1   \n",
       "4  17.0          8  302.0       140.0  3449.0  10.5          70       1   \n",
       "\n",
       "                          name  \n",
       "0  \"chevrolet chevelle malibu\"  \n",
       "1          \"buick skylark 320\"  \n",
       "2         \"plymouth satellite\"  \n",
       "3              \"amc rebel sst\"  \n",
       "4                \"ford torino\"  "
      ]
     },
     "execution_count": 16,
     "metadata": {},
     "output_type": "execute_result"
    }
   ],
   "source": [
    "df = get_auto_mpg()\n",
    "df.head()"
   ]
  },
  {
   "cell_type": "code",
   "execution_count": 17,
   "id": "71dd8f13",
   "metadata": {},
   "outputs": [
    {
     "data": {
      "text/plain": [
       "((274, 9), (59, 9), (59, 9))"
      ]
     },
     "execution_count": 17,
     "metadata": {},
     "output_type": "execute_result"
    }
   ],
   "source": [
    "train, val , test = wrangle.train_val_test(df)\n",
    "train.shape, val.shape, test.shape"
   ]
  },
  {
   "cell_type": "code",
   "execution_count": 18,
   "id": "04b746a8",
   "metadata": {},
   "outputs": [],
   "source": [
    "baseline = round(train['mpg'].mean(), 2)"
   ]
  },
  {
   "cell_type": "code",
   "execution_count": 19,
   "id": "191b96a9",
   "metadata": {},
   "outputs": [],
   "source": [
    "preds = train[['horsepower', 'mpg']]"
   ]
  },
  {
   "cell_type": "code",
   "execution_count": 20,
   "id": "3848553e",
   "metadata": {},
   "outputs": [
    {
     "data": {
      "text/html": [
       "<div>\n",
       "<style scoped>\n",
       "    .dataframe tbody tr th:only-of-type {\n",
       "        vertical-align: middle;\n",
       "    }\n",
       "\n",
       "    .dataframe tbody tr th {\n",
       "        vertical-align: top;\n",
       "    }\n",
       "\n",
       "    .dataframe thead th {\n",
       "        text-align: right;\n",
       "    }\n",
       "</style>\n",
       "<table border=\"1\" class=\"dataframe\">\n",
       "  <thead>\n",
       "    <tr style=\"text-align: right;\">\n",
       "      <th></th>\n",
       "      <th>horsepower</th>\n",
       "      <th>mpg</th>\n",
       "      <th>baseline_preds</th>\n",
       "    </tr>\n",
       "  </thead>\n",
       "  <tbody>\n",
       "    <tr>\n",
       "      <th>216</th>\n",
       "      <td>68.0</td>\n",
       "      <td>31.5</td>\n",
       "      <td>23.17</td>\n",
       "    </tr>\n",
       "    <tr>\n",
       "      <th>348</th>\n",
       "      <td>62.0</td>\n",
       "      <td>37.7</td>\n",
       "      <td>23.17</td>\n",
       "    </tr>\n",
       "    <tr>\n",
       "      <th>232</th>\n",
       "      <td>149.0</td>\n",
       "      <td>16.0</td>\n",
       "      <td>23.17</td>\n",
       "    </tr>\n",
       "    <tr>\n",
       "      <th>201</th>\n",
       "      <td>110.0</td>\n",
       "      <td>18.5</td>\n",
       "      <td>23.17</td>\n",
       "    </tr>\n",
       "    <tr>\n",
       "      <th>102</th>\n",
       "      <td>46.0</td>\n",
       "      <td>26.0</td>\n",
       "      <td>23.17</td>\n",
       "    </tr>\n",
       "  </tbody>\n",
       "</table>\n",
       "</div>"
      ],
      "text/plain": [
       "     horsepower   mpg  baseline_preds\n",
       "216        68.0  31.5           23.17\n",
       "348        62.0  37.7           23.17\n",
       "232       149.0  16.0           23.17\n",
       "201       110.0  18.5           23.17\n",
       "102        46.0  26.0           23.17"
      ]
     },
     "execution_count": 20,
     "metadata": {},
     "output_type": "execute_result"
    }
   ],
   "source": [
    "preds['baseline_preds'] = baseline\n",
    "preds.head()"
   ]
  },
  {
   "cell_type": "code",
   "execution_count": 21,
   "id": "363cee83",
   "metadata": {},
   "outputs": [
    {
     "data": {
      "text/html": [
       "<style>#sk-container-id-1 {color: black;background-color: white;}#sk-container-id-1 pre{padding: 0;}#sk-container-id-1 div.sk-toggleable {background-color: white;}#sk-container-id-1 label.sk-toggleable__label {cursor: pointer;display: block;width: 100%;margin-bottom: 0;padding: 0.3em;box-sizing: border-box;text-align: center;}#sk-container-id-1 label.sk-toggleable__label-arrow:before {content: \"▸\";float: left;margin-right: 0.25em;color: #696969;}#sk-container-id-1 label.sk-toggleable__label-arrow:hover:before {color: black;}#sk-container-id-1 div.sk-estimator:hover label.sk-toggleable__label-arrow:before {color: black;}#sk-container-id-1 div.sk-toggleable__content {max-height: 0;max-width: 0;overflow: hidden;text-align: left;background-color: #f0f8ff;}#sk-container-id-1 div.sk-toggleable__content pre {margin: 0.2em;color: black;border-radius: 0.25em;background-color: #f0f8ff;}#sk-container-id-1 input.sk-toggleable__control:checked~div.sk-toggleable__content {max-height: 200px;max-width: 100%;overflow: auto;}#sk-container-id-1 input.sk-toggleable__control:checked~label.sk-toggleable__label-arrow:before {content: \"▾\";}#sk-container-id-1 div.sk-estimator input.sk-toggleable__control:checked~label.sk-toggleable__label {background-color: #d4ebff;}#sk-container-id-1 div.sk-label input.sk-toggleable__control:checked~label.sk-toggleable__label {background-color: #d4ebff;}#sk-container-id-1 input.sk-hidden--visually {border: 0;clip: rect(1px 1px 1px 1px);clip: rect(1px, 1px, 1px, 1px);height: 1px;margin: -1px;overflow: hidden;padding: 0;position: absolute;width: 1px;}#sk-container-id-1 div.sk-estimator {font-family: monospace;background-color: #f0f8ff;border: 1px dotted black;border-radius: 0.25em;box-sizing: border-box;margin-bottom: 0.5em;}#sk-container-id-1 div.sk-estimator:hover {background-color: #d4ebff;}#sk-container-id-1 div.sk-parallel-item::after {content: \"\";width: 100%;border-bottom: 1px solid gray;flex-grow: 1;}#sk-container-id-1 div.sk-label:hover label.sk-toggleable__label {background-color: #d4ebff;}#sk-container-id-1 div.sk-serial::before {content: \"\";position: absolute;border-left: 1px solid gray;box-sizing: border-box;top: 0;bottom: 0;left: 50%;z-index: 0;}#sk-container-id-1 div.sk-serial {display: flex;flex-direction: column;align-items: center;background-color: white;padding-right: 0.2em;padding-left: 0.2em;position: relative;}#sk-container-id-1 div.sk-item {position: relative;z-index: 1;}#sk-container-id-1 div.sk-parallel {display: flex;align-items: stretch;justify-content: center;background-color: white;position: relative;}#sk-container-id-1 div.sk-item::before, #sk-container-id-1 div.sk-parallel-item::before {content: \"\";position: absolute;border-left: 1px solid gray;box-sizing: border-box;top: 0;bottom: 0;left: 50%;z-index: -1;}#sk-container-id-1 div.sk-parallel-item {display: flex;flex-direction: column;z-index: 1;position: relative;background-color: white;}#sk-container-id-1 div.sk-parallel-item:first-child::after {align-self: flex-end;width: 50%;}#sk-container-id-1 div.sk-parallel-item:last-child::after {align-self: flex-start;width: 50%;}#sk-container-id-1 div.sk-parallel-item:only-child::after {width: 0;}#sk-container-id-1 div.sk-dashed-wrapped {border: 1px dashed gray;margin: 0 0.4em 0.5em 0.4em;box-sizing: border-box;padding-bottom: 0.4em;background-color: white;}#sk-container-id-1 div.sk-label label {font-family: monospace;font-weight: bold;display: inline-block;line-height: 1.2em;}#sk-container-id-1 div.sk-label-container {text-align: center;}#sk-container-id-1 div.sk-container {/* jupyter's `normalize.less` sets `[hidden] { display: none; }` but bootstrap.min.css set `[hidden] { display: none !important; }` so we also need the `!important` here to be able to override the default hidden behavior on the sphinx rendered scikit-learn.org. See: https://github.com/scikit-learn/scikit-learn/issues/21755 */display: inline-block !important;position: relative;}#sk-container-id-1 div.sk-text-repr-fallback {display: none;}</style><div id=\"sk-container-id-1\" class=\"sk-top-container\"><div class=\"sk-text-repr-fallback\"><pre>LinearRegression()</pre><b>In a Jupyter environment, please rerun this cell to show the HTML representation or trust the notebook. <br />On GitHub, the HTML representation is unable to render, please try loading this page with nbviewer.org.</b></div><div class=\"sk-container\" hidden><div class=\"sk-item\"><div class=\"sk-estimator sk-toggleable\"><input class=\"sk-toggleable__control sk-hidden--visually\" id=\"sk-estimator-id-1\" type=\"checkbox\" checked><label for=\"sk-estimator-id-1\" class=\"sk-toggleable__label sk-toggleable__label-arrow\">LinearRegression</label><div class=\"sk-toggleable__content\"><pre>LinearRegression()</pre></div></div></div></div></div>"
      ],
      "text/plain": [
       "LinearRegression()"
      ]
     },
     "execution_count": 21,
     "metadata": {},
     "output_type": "execute_result"
    }
   ],
   "source": [
    "ols_model = LinearRegression()\n",
    "\n",
    "ols_model.fit(train[['horsepower']], train[['mpg']])"
   ]
  },
  {
   "cell_type": "code",
   "execution_count": 22,
   "id": "afcd4ab6",
   "metadata": {},
   "outputs": [
    {
     "data": {
      "text/html": [
       "<div>\n",
       "<style scoped>\n",
       "    .dataframe tbody tr th:only-of-type {\n",
       "        vertical-align: middle;\n",
       "    }\n",
       "\n",
       "    .dataframe tbody tr th {\n",
       "        vertical-align: top;\n",
       "    }\n",
       "\n",
       "    .dataframe thead th {\n",
       "        text-align: right;\n",
       "    }\n",
       "</style>\n",
       "<table border=\"1\" class=\"dataframe\">\n",
       "  <thead>\n",
       "    <tr style=\"text-align: right;\">\n",
       "      <th></th>\n",
       "      <th>horsepower</th>\n",
       "      <th>mpg</th>\n",
       "      <th>baseline_preds</th>\n",
       "      <th>yhat</th>\n",
       "    </tr>\n",
       "  </thead>\n",
       "  <tbody>\n",
       "    <tr>\n",
       "      <th>216</th>\n",
       "      <td>68.0</td>\n",
       "      <td>31.5</td>\n",
       "      <td>23.17</td>\n",
       "      <td>28.887523</td>\n",
       "    </tr>\n",
       "    <tr>\n",
       "      <th>348</th>\n",
       "      <td>62.0</td>\n",
       "      <td>37.7</td>\n",
       "      <td>23.17</td>\n",
       "      <td>29.815976</td>\n",
       "    </tr>\n",
       "    <tr>\n",
       "      <th>232</th>\n",
       "      <td>149.0</td>\n",
       "      <td>16.0</td>\n",
       "      <td>23.17</td>\n",
       "      <td>16.353407</td>\n",
       "    </tr>\n",
       "    <tr>\n",
       "      <th>201</th>\n",
       "      <td>110.0</td>\n",
       "      <td>18.5</td>\n",
       "      <td>23.17</td>\n",
       "      <td>22.388352</td>\n",
       "    </tr>\n",
       "    <tr>\n",
       "      <th>102</th>\n",
       "      <td>46.0</td>\n",
       "      <td>26.0</td>\n",
       "      <td>23.17</td>\n",
       "      <td>32.291851</td>\n",
       "    </tr>\n",
       "  </tbody>\n",
       "</table>\n",
       "</div>"
      ],
      "text/plain": [
       "     horsepower   mpg  baseline_preds       yhat\n",
       "216        68.0  31.5           23.17  28.887523\n",
       "348        62.0  37.7           23.17  29.815976\n",
       "232       149.0  16.0           23.17  16.353407\n",
       "201       110.0  18.5           23.17  22.388352\n",
       "102        46.0  26.0           23.17  32.291851"
      ]
     },
     "execution_count": 22,
     "metadata": {},
     "output_type": "execute_result"
    }
   ],
   "source": [
    "preds['yhat'] = ols_model.predict(train[['horsepower']])\n",
    "preds.head()"
   ]
  },
  {
   "cell_type": "code",
   "execution_count": 23,
   "id": "4a0b72ac",
   "metadata": {},
   "outputs": [
    {
     "data": {
      "text/html": [
       "<div>\n",
       "<style scoped>\n",
       "    .dataframe tbody tr th:only-of-type {\n",
       "        vertical-align: middle;\n",
       "    }\n",
       "\n",
       "    .dataframe tbody tr th {\n",
       "        vertical-align: top;\n",
       "    }\n",
       "\n",
       "    .dataframe thead th {\n",
       "        text-align: right;\n",
       "    }\n",
       "</style>\n",
       "<table border=\"1\" class=\"dataframe\">\n",
       "  <thead>\n",
       "    <tr style=\"text-align: right;\">\n",
       "      <th></th>\n",
       "      <th>horsepower</th>\n",
       "      <th>mpg</th>\n",
       "      <th>baseline_preds</th>\n",
       "      <th>yhat</th>\n",
       "      <th>baseline_res</th>\n",
       "    </tr>\n",
       "  </thead>\n",
       "  <tbody>\n",
       "    <tr>\n",
       "      <th>216</th>\n",
       "      <td>68.0</td>\n",
       "      <td>31.5</td>\n",
       "      <td>23.17</td>\n",
       "      <td>28.887523</td>\n",
       "      <td>-8.33</td>\n",
       "    </tr>\n",
       "    <tr>\n",
       "      <th>348</th>\n",
       "      <td>62.0</td>\n",
       "      <td>37.7</td>\n",
       "      <td>23.17</td>\n",
       "      <td>29.815976</td>\n",
       "      <td>-14.53</td>\n",
       "    </tr>\n",
       "    <tr>\n",
       "      <th>232</th>\n",
       "      <td>149.0</td>\n",
       "      <td>16.0</td>\n",
       "      <td>23.17</td>\n",
       "      <td>16.353407</td>\n",
       "      <td>7.17</td>\n",
       "    </tr>\n",
       "    <tr>\n",
       "      <th>201</th>\n",
       "      <td>110.0</td>\n",
       "      <td>18.5</td>\n",
       "      <td>23.17</td>\n",
       "      <td>22.388352</td>\n",
       "      <td>4.67</td>\n",
       "    </tr>\n",
       "    <tr>\n",
       "      <th>102</th>\n",
       "      <td>46.0</td>\n",
       "      <td>26.0</td>\n",
       "      <td>23.17</td>\n",
       "      <td>32.291851</td>\n",
       "      <td>-2.83</td>\n",
       "    </tr>\n",
       "  </tbody>\n",
       "</table>\n",
       "</div>"
      ],
      "text/plain": [
       "     horsepower   mpg  baseline_preds       yhat  baseline_res\n",
       "216        68.0  31.5           23.17  28.887523         -8.33\n",
       "348        62.0  37.7           23.17  29.815976        -14.53\n",
       "232       149.0  16.0           23.17  16.353407          7.17\n",
       "201       110.0  18.5           23.17  22.388352          4.67\n",
       "102        46.0  26.0           23.17  32.291851         -2.83"
      ]
     },
     "execution_count": 23,
     "metadata": {},
     "output_type": "execute_result"
    }
   ],
   "source": [
    "preds['baseline_res'] = preds['baseline_preds'] - preds['mpg']\n",
    "preds.head()"
   ]
  },
  {
   "cell_type": "code",
   "execution_count": 24,
   "id": "c198fb16",
   "metadata": {},
   "outputs": [
    {
     "data": {
      "image/png": "[encoded data removed]",
      "text/plain": [
       "<Figure size 640x480 with 1 Axes>"
      ]
     },
     "metadata": {},
     "output_type": "display_data"
    }
   ],
   "source": [
    "plt.scatter(preds['horsepower'], preds['baseline_res'])\n",
    "plt.xlabel('Horsepower')\n",
    "plt.ylabel('Baseline Residual')\n",
    "plt.show()"
   ]
  },
  {
   "cell_type": "code",
   "execution_count": 25,
   "id": "1436cfe0",
   "metadata": {},
   "outputs": [
    {
     "data": {
      "text/html": [
       "<div>\n",
       "<style scoped>\n",
       "    .dataframe tbody tr th:only-of-type {\n",
       "        vertical-align: middle;\n",
       "    }\n",
       "\n",
       "    .dataframe tbody tr th {\n",
       "        vertical-align: top;\n",
       "    }\n",
       "\n",
       "    .dataframe thead th {\n",
       "        text-align: right;\n",
       "    }\n",
       "</style>\n",
       "<table border=\"1\" class=\"dataframe\">\n",
       "  <thead>\n",
       "    <tr style=\"text-align: right;\">\n",
       "      <th></th>\n",
       "      <th>horsepower</th>\n",
       "      <th>mpg</th>\n",
       "      <th>baseline_preds</th>\n",
       "      <th>yhat</th>\n",
       "      <th>baseline_res</th>\n",
       "      <th>yhat_res</th>\n",
       "    </tr>\n",
       "  </thead>\n",
       "  <tbody>\n",
       "    <tr>\n",
       "      <th>216</th>\n",
       "      <td>68.0</td>\n",
       "      <td>31.5</td>\n",
       "      <td>23.17</td>\n",
       "      <td>28.887523</td>\n",
       "      <td>-8.33</td>\n",
       "      <td>-2.612477</td>\n",
       "    </tr>\n",
       "    <tr>\n",
       "      <th>348</th>\n",
       "      <td>62.0</td>\n",
       "      <td>37.7</td>\n",
       "      <td>23.17</td>\n",
       "      <td>29.815976</td>\n",
       "      <td>-14.53</td>\n",
       "      <td>-7.884024</td>\n",
       "    </tr>\n",
       "    <tr>\n",
       "      <th>232</th>\n",
       "      <td>149.0</td>\n",
       "      <td>16.0</td>\n",
       "      <td>23.17</td>\n",
       "      <td>16.353407</td>\n",
       "      <td>7.17</td>\n",
       "      <td>0.353407</td>\n",
       "    </tr>\n",
       "    <tr>\n",
       "      <th>201</th>\n",
       "      <td>110.0</td>\n",
       "      <td>18.5</td>\n",
       "      <td>23.17</td>\n",
       "      <td>22.388352</td>\n",
       "      <td>4.67</td>\n",
       "      <td>3.888352</td>\n",
       "    </tr>\n",
       "    <tr>\n",
       "      <th>102</th>\n",
       "      <td>46.0</td>\n",
       "      <td>26.0</td>\n",
       "      <td>23.17</td>\n",
       "      <td>32.291851</td>\n",
       "      <td>-2.83</td>\n",
       "      <td>6.291851</td>\n",
       "    </tr>\n",
       "  </tbody>\n",
       "</table>\n",
       "</div>"
      ],
      "text/plain": [
       "     horsepower   mpg  baseline_preds       yhat  baseline_res  yhat_res\n",
       "216        68.0  31.5           23.17  28.887523         -8.33 -2.612477\n",
       "348        62.0  37.7           23.17  29.815976        -14.53 -7.884024\n",
       "232       149.0  16.0           23.17  16.353407          7.17  0.353407\n",
       "201       110.0  18.5           23.17  22.388352          4.67  3.888352\n",
       "102        46.0  26.0           23.17  32.291851         -2.83  6.291851"
      ]
     },
     "execution_count": 25,
     "metadata": {},
     "output_type": "execute_result"
    }
   ],
   "source": [
    "preds['yhat_res'] = preds['yhat'] - preds['mpg']\n",
    "preds.head()"
   ]
  },
  {
   "cell_type": "code",
   "execution_count": 26,
   "id": "e2eddbfc",
   "metadata": {},
   "outputs": [
    {
     "data": {
      "image/png": "[encoded data removed]",
      "text/plain": [
       "<Figure size 640x480 with 1 Axes>"
      ]
     },
     "metadata": {},
     "output_type": "display_data"
    }
   ],
   "source": [
    "plt.scatter(preds['horsepower'], preds['yhat_res'])\n",
    "plt.xlabel('Horsepower')\n",
    "plt.ylabel('Predictions residuals')\n",
    "plt.show()"
   ]
  },
  {
   "cell_type": "markdown",
   "id": "dc02abc3",
   "metadata": {},
   "source": [
    "compute sse \n",
    "sum of suared errors\n"
   ]
  },
  {
   "cell_type": "code",
   "execution_count": 27,
   "id": "612c8e51",
   "metadata": {},
   "outputs": [
    {
     "data": {
      "text/plain": [
       "Index(['horsepower', 'mpg', 'baseline_preds', 'yhat', 'baseline_res',\n",
       "       'yhat_res'],\n",
       "      dtype='object')"
      ]
     },
     "execution_count": 27,
     "metadata": {},
     "output_type": "execute_result"
    }
   ],
   "source": [
    "preds.columns"
   ]
  },
  {
   "cell_type": "code",
   "execution_count": 28,
   "id": "0eb7f887",
   "metadata": {},
   "outputs": [
    {
     "data": {
      "text/html": [
       "<div>\n",
       "<style scoped>\n",
       "    .dataframe tbody tr th:only-of-type {\n",
       "        vertical-align: middle;\n",
       "    }\n",
       "\n",
       "    .dataframe tbody tr th {\n",
       "        vertical-align: top;\n",
       "    }\n",
       "\n",
       "    .dataframe thead th {\n",
       "        text-align: right;\n",
       "    }\n",
       "</style>\n",
       "<table border=\"1\" class=\"dataframe\">\n",
       "  <thead>\n",
       "    <tr style=\"text-align: right;\">\n",
       "      <th></th>\n",
       "      <th>horsepower</th>\n",
       "      <th>mpg</th>\n",
       "      <th>baseline_preds</th>\n",
       "      <th>yhat</th>\n",
       "      <th>baseline_res</th>\n",
       "      <th>yhat_res</th>\n",
       "      <th>baseline_res_squared</th>\n",
       "      <th>yhat_res_squared</th>\n",
       "    </tr>\n",
       "  </thead>\n",
       "  <tbody>\n",
       "    <tr>\n",
       "      <th>216</th>\n",
       "      <td>68.0</td>\n",
       "      <td>31.5</td>\n",
       "      <td>23.17</td>\n",
       "      <td>28.887523</td>\n",
       "      <td>-8.33</td>\n",
       "      <td>-2.612477</td>\n",
       "      <td>69.3889</td>\n",
       "      <td>6.825036</td>\n",
       "    </tr>\n",
       "    <tr>\n",
       "      <th>348</th>\n",
       "      <td>62.0</td>\n",
       "      <td>37.7</td>\n",
       "      <td>23.17</td>\n",
       "      <td>29.815976</td>\n",
       "      <td>-14.53</td>\n",
       "      <td>-7.884024</td>\n",
       "      <td>211.1209</td>\n",
       "      <td>62.157835</td>\n",
       "    </tr>\n",
       "    <tr>\n",
       "      <th>232</th>\n",
       "      <td>149.0</td>\n",
       "      <td>16.0</td>\n",
       "      <td>23.17</td>\n",
       "      <td>16.353407</td>\n",
       "      <td>7.17</td>\n",
       "      <td>0.353407</td>\n",
       "      <td>51.4089</td>\n",
       "      <td>0.124897</td>\n",
       "    </tr>\n",
       "    <tr>\n",
       "      <th>201</th>\n",
       "      <td>110.0</td>\n",
       "      <td>18.5</td>\n",
       "      <td>23.17</td>\n",
       "      <td>22.388352</td>\n",
       "      <td>4.67</td>\n",
       "      <td>3.888352</td>\n",
       "      <td>21.8089</td>\n",
       "      <td>15.119279</td>\n",
       "    </tr>\n",
       "    <tr>\n",
       "      <th>102</th>\n",
       "      <td>46.0</td>\n",
       "      <td>26.0</td>\n",
       "      <td>23.17</td>\n",
       "      <td>32.291851</td>\n",
       "      <td>-2.83</td>\n",
       "      <td>6.291851</td>\n",
       "      <td>8.0089</td>\n",
       "      <td>39.587385</td>\n",
       "    </tr>\n",
       "  </tbody>\n",
       "</table>\n",
       "</div>"
      ],
      "text/plain": [
       "     horsepower   mpg  baseline_preds       yhat  baseline_res  yhat_res  \\\n",
       "216        68.0  31.5           23.17  28.887523         -8.33 -2.612477   \n",
       "348        62.0  37.7           23.17  29.815976        -14.53 -7.884024   \n",
       "232       149.0  16.0           23.17  16.353407          7.17  0.353407   \n",
       "201       110.0  18.5           23.17  22.388352          4.67  3.888352   \n",
       "102        46.0  26.0           23.17  32.291851         -2.83  6.291851   \n",
       "\n",
       "     baseline_res_squared  yhat_res_squared  \n",
       "216               69.3889          6.825036  \n",
       "348              211.1209         62.157835  \n",
       "232               51.4089          0.124897  \n",
       "201               21.8089         15.119279  \n",
       "102                8.0089         39.587385  "
      ]
     },
     "execution_count": 28,
     "metadata": {},
     "output_type": "execute_result"
    }
   ],
   "source": [
    "preds['baseline_res_squared'] = preds['baseline_res'] ** 2\n",
    "preds['yhat_res_squared'] = preds['yhat_res'] ** 2\n",
    "preds.head()"
   ]
  },
  {
   "cell_type": "code",
   "execution_count": 29,
   "id": "fcbc25bc",
   "metadata": {},
   "outputs": [
    {
     "data": {
      "text/plain": [
       "(16236.5786, 6271.313890186161)"
      ]
     },
     "execution_count": 29,
     "metadata": {},
     "output_type": "execute_result"
    }
   ],
   "source": [
    "sse_baseline = preds['baseline_res_squared'].sum()\n",
    "sse_yhat = preds['yhat_res_squared'].sum()\n",
    "sse_baseline, sse_yhat"
   ]
  },
  {
   "cell_type": "markdown",
   "id": "fa79bbae",
   "metadata": {},
   "source": [
    "compute mse"
   ]
  },
  {
   "cell_type": "code",
   "execution_count": 30,
   "id": "0b2470fc",
   "metadata": {},
   "outputs": [
    {
     "data": {
      "text/plain": [
       "(59.257586131386866, 22.88800689848964)"
      ]
     },
     "execution_count": 30,
     "metadata": {},
     "output_type": "execute_result"
    }
   ],
   "source": [
    "mse_baseline = sse_baseline / len(preds)\n",
    "mse_yhat = sse_yhat / len(preds)\n",
    "mse_baseline, mse_yhat"
   ]
  },
  {
   "cell_type": "markdown",
   "id": "7e3e04ec",
   "metadata": {},
   "source": [
    "rmse - root mean squared"
   ]
  },
  {
   "cell_type": "code",
   "execution_count": 35,
   "id": "8c99a8cc",
   "metadata": {},
   "outputs": [
    {
     "data": {
      "text/plain": [
       "(7.697894915584836, 4.784141187140032)"
      ]
     },
     "execution_count": 35,
     "metadata": {},
     "output_type": "execute_result"
    }
   ],
   "source": [
    "rmse_baseline = sqrt(mse_baseline)\n",
    "rmse_yhat = sqrt(mse_yhat)\n",
    "rmse_baseline, rmse_yhat"
   ]
  },
  {
   "cell_type": "markdown",
   "id": "f9cbbd89",
   "metadata": {},
   "source": [
    "with sklearn\n"
   ]
  },
  {
   "cell_type": "code",
   "execution_count": 36,
   "id": "d54605d5",
   "metadata": {},
   "outputs": [
    {
     "data": {
      "text/plain": [
       "7.697894915584836"
      ]
     },
     "execution_count": 36,
     "metadata": {},
     "output_type": "execute_result"
    }
   ],
   "source": [
    "sqrt(mean_squared_error(preds['mpg'], preds['baseline_preds']))"
   ]
  },
  {
   "cell_type": "code",
   "execution_count": null,
   "id": "21b89dc1",
   "metadata": {},
   "outputs": [],
   "source": []
  }
 ],
 "metadata": {
  "kernelspec": {
   "display_name": "Python 3 (ipykernel)",
   "language": "python",
   "name": "python3"
  },
  "language_info": {
   "codemirror_mode": {
    "name": "ipython",
    "version": 3
   },
   "file_extension": ".py",
   "mimetype": "text/x-python",
   "name": "python",
   "nbconvert_exporter": "python",
   "pygments_lexer": "ipython3",
   "version": "3.9.13"
  }
 },
 "nbformat": 4,
 "nbformat_minor": 5
}
